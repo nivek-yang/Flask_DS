{
 "cells": [
  {
   "cell_type": "code",
   "execution_count": 25,
   "metadata": {},
   "outputs": [],
   "source": [
    "class LinkedList:\n",
    "    def __init__(self):\n",
    "        self.head = None\n",
    "        self.last_node = None\n",
    "    \n",
    "    def print_ll(self):\n",
    "        ll_string = \"\"\n",
    "        node = self.head\n",
    "        if node is None:\n",
    "            print(None)\n",
    "        while node:\n",
    "            ll_string += f\"  {str(node.data)} ->\"\n",
    "            node = node.next_node\n",
    "\n",
    "        ll_string += \" None\"\n",
    "        print(ll_string)\n",
    "    \n",
    "    def insert_beginning(self, data):\n",
    "        new_node = Node(data, self.head)\n",
    "        self.head = new_node\n",
    "\n",
    "    def insert_at_end(self, data):\n",
    "        if self.head is None:\n",
    "            self.insert_beginning(data)\n",
    "            return\n",
    "            \n",
    "        if self.last_node is None:\n",
    "            node = self.head\n",
    "            while node.next_node:\n",
    "                node = node.next_node\n",
    "\n",
    "            node.next_node = Node(data, None)\n",
    "            self.last_node = node.next_node\n",
    "        \n",
    "        else:\n",
    "            self.last_node.next_node = Node(data, None)\n",
    "            self.last_node = self.last_node.next_node\n"
   ]
  },
  {
   "cell_type": "code",
   "execution_count": 20,
   "metadata": {},
   "outputs": [
    {
     "name": "stdout",
     "output_type": "stream",
     "text": [
      "  data1 ->  data2 ->  data3 ->  data4 -> None\n"
     ]
    }
   ],
   "source": [
    "ll = LinkedList()\n",
    "node4 = Node(\"data4\", None)\n",
    "node3 = Node(\"data3\", node4)\n",
    "node2 = Node(\"data2\", node3)\n",
    "node1 = Node(\"data1\", node2)\n",
    "\n",
    "ll.head = node1\n",
    "\n",
    "ll.print_ll()"
   ]
  },
  {
   "cell_type": "code",
   "execution_count": 21,
   "metadata": {},
   "outputs": [
    {
     "name": "stdout",
     "output_type": "stream",
     "text": [
      "  data1 -> None\n",
      "  data2 ->  data1 -> None\n"
     ]
    }
   ],
   "source": [
    "ll = LinkedList()\n",
    "\n",
    "ll.insert_beginning(\"data1\")\n",
    "ll.print_ll()\n",
    "\n",
    "ll.insert_beginning(\"data2\")\n",
    "ll.print_ll()\n"
   ]
  },
  {
   "cell_type": "code",
   "execution_count": 26,
   "metadata": {},
   "outputs": [
    {
     "name": "stdout",
     "output_type": "stream",
     "text": [
      "  data1 -> None\n",
      "  data1 ->  data2 -> None\n"
     ]
    }
   ],
   "source": [
    "ll = LinkedList()\n",
    "ll.insert_at_end(\"data1\")\n",
    "ll.print_ll()\n",
    "ll.insert_at_end(\"data2\")\n",
    "ll.print_ll()"
   ]
  },
  {
   "cell_type": "code",
   "execution_count": 28,
   "metadata": {},
   "outputs": [
    {
     "name": "stdout",
     "output_type": "stream",
     "text": [
      "  data ->  data ->  data ->  data ->  data ->  data ->  data ->  data ->  data ->  end ->  end2 -> None\n"
     ]
    }
   ],
   "source": [
    "ll = LinkedList()\n",
    "ll.insert_beginning(\"data\")\n",
    "ll.insert_beginning(\"data\")\n",
    "ll.insert_beginning(\"data\")\n",
    "ll.insert_beginning(\"data\")\n",
    "ll.insert_beginning(\"data\")\n",
    "ll.insert_beginning(\"data\")\n",
    "ll.insert_beginning(\"data\")\n",
    "ll.insert_beginning(\"data\")\n",
    "ll.insert_beginning(\"data\")\n",
    "\n",
    "ll.insert_at_end(\"end\")\n",
    "ll.insert_at_end(\"end2\")\n",
    "\n",
    "ll.print_ll()"
   ]
  },
  {
   "cell_type": "markdown",
   "metadata": {},
   "source": [
    "## Better way: modify inser_beginning function and insert_at_end function in LinkedList class\n",
    "-> the same result but more efficient"
   ]
  },
  {
   "cell_type": "code",
   "execution_count": 31,
   "metadata": {},
   "outputs": [],
   "source": [
    "class Node:\n",
    "    def __init__(self, data=None, next_node=None):\n",
    "        self.data = data\n",
    "        self.next_node = next_node\n",
    "\n",
    "class LinkedList:\n",
    "    def __init__(self):\n",
    "        self.head = None\n",
    "        self.last_node = None\n",
    "    \n",
    "    def print_ll(self):\n",
    "        ll_string = \"\"\n",
    "        node = self.head\n",
    "        if node is None:\n",
    "            print(None)\n",
    "        while node:\n",
    "            ll_string += f\"  {str(node.data)} ->\"\n",
    "            node = node.next_node\n",
    "\n",
    "        ll_string += \" None\"\n",
    "        print(ll_string)\n",
    "    \n",
    "    def insert_beginning(self, data):\n",
    "        if self.head is None:\n",
    "            self.head = Node(data, None)\n",
    "            self.last_node = self.head\n",
    "\n",
    "        new_node = Node(data, self.head)\n",
    "        self.head = new_node\n",
    "\n",
    "    def insert_at_end(self, data):\n",
    "        if self.head is None:\n",
    "            self.insert_beginning(data)\n",
    "            return\n",
    "\n",
    "        self.last_node.next_node = Node(data, None)\n",
    "        self.last_node = self.last_node.next_node\n"
   ]
  },
  {
   "cell_type": "code",
   "execution_count": 32,
   "metadata": {},
   "outputs": [
    {
     "name": "stdout",
     "output_type": "stream",
     "text": [
      "  data ->  data ->  data ->  data ->  data ->  data ->  data ->  data ->  data ->  data ->  end ->  end2 -> None\n"
     ]
    }
   ],
   "source": [
    "ll = LinkedList()\n",
    "ll.insert_beginning(\"data\")\n",
    "ll.insert_beginning(\"data\")\n",
    "ll.insert_beginning(\"data\")\n",
    "ll.insert_beginning(\"data\")\n",
    "ll.insert_beginning(\"data\")\n",
    "ll.insert_beginning(\"data\")\n",
    "ll.insert_beginning(\"data\")\n",
    "ll.insert_beginning(\"data\")\n",
    "ll.insert_beginning(\"data\")\n",
    "\n",
    "ll.insert_at_end(\"end\")\n",
    "ll.insert_at_end(\"end2\")\n",
    "\n",
    "ll.print_ll()"
   ]
  },
  {
   "cell_type": "code",
   "execution_count": null,
   "metadata": {},
   "outputs": [],
   "source": []
  }
 ],
 "metadata": {
  "kernelspec": {
   "display_name": "Python 3",
   "language": "python",
   "name": "python3"
  },
  "language_info": {
   "codemirror_mode": {
    "name": "ipython",
    "version": 3
   },
   "file_extension": ".py",
   "mimetype": "text/x-python",
   "name": "python",
   "nbconvert_exporter": "python",
   "pygments_lexer": "ipython3",
   "version": "3.8.5"
  }
 },
 "nbformat": 4,
 "nbformat_minor": 4
}
